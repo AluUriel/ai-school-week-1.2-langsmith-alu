{
 "cells": [
  {
   "cell_type": "code",
   "execution_count": 5,
   "metadata": {},
   "outputs": [
    {
     "data": {
      "text/plain": [
       "True"
      ]
     },
     "execution_count": 5,
     "metadata": {},
     "output_type": "execute_result"
    }
   ],
   "source": [
    "from langchain_core.prompts import ChatPromptTemplate, FewShotChatMessagePromptTemplate\n",
    "from dotenv import load_dotenv\n",
    "load_dotenv()\n"
   ]
  },
  {
   "cell_type": "code",
   "execution_count": 6,
   "metadata": {},
   "outputs": [],
   "source": [
    "#update this to the prompts you're using\n",
    "examples = [\n",
    "    {\"input\": \"Tell me a dad joke. The joke should be in a story format.\", \"output\": \"Why did the scarecrow win an award? Because he was outstanding in his field!\"},\n",
    "    {\"input\": \"Tell me a dad joke. The joke should be in a story format.\", \"output\": \"Once there was a dad who decided to start a band with his four kids. They spent hours practicing in the garage, trying to come up with the perfect sound. Finally, they had their first gig at a local bar. As they were setting up their instruments on stage, the dad turned to his kids and said, Why couldn't the bicycle stand up by itself? Because it was two-tired! The kids groaned in unison, but the dad just chuckled to himself, knowing he had set the perfect tone for their performance. And sure enough, the crowd erupted in laughter when he told the joke again during their set. The dad beamed with pride, knowing that not only did his band sound great, but they also had a killer sense of humor.\"},\n",
    "]"
   ]
  },
  {
   "cell_type": "code",
   "execution_count": 7,
   "metadata": {},
   "outputs": [
    {
     "name": "stdout",
     "output_type": "stream",
     "text": [
      "Human: Tell me a dad joke. The joke should be in a story format.\n",
      "AI: Why did the scarecrow win an award? Because he was outstanding in his field!\n",
      "Human: Tell me a dad joke. The joke should be in a story format.\n",
      "AI: Once there was a dad who decided to start a band with his four kids. They spent hours practicing in the garage, trying to come up with the perfect sound. Finally, they had their first gig at a local bar. As they were setting up their instruments on stage, the dad turned to his kids and said, Why couldn't the bicycle stand up by itself? Because it was two-tired! The kids groaned in unison, but the dad just chuckled to himself, knowing he had set the perfect tone for their performance. And sure enough, the crowd erupted in laughter when he told the joke again during their set. The dad beamed with pride, knowing that not only did his band sound great, but they also had a killer sense of humor.\n"
     ]
    }
   ],
   "source": [
    "# This is a prompt template used to format each individual example.\n",
    "example_prompt = ChatPromptTemplate.from_messages(\n",
    "    [\n",
    "        (\"human\", \"{input}\"),\n",
    "        (\"ai\", \"{output}\"),\n",
    "    ]\n",
    ")\n",
    "few_shot_prompt = FewShotChatMessagePromptTemplate(\n",
    "    example_prompt=example_prompt,\n",
    "    examples=examples,\n",
    ")\n",
    "\n",
    "print(few_shot_prompt.format())"
   ]
  },
  {
   "cell_type": "code",
   "execution_count": 8,
   "metadata": {},
   "outputs": [],
   "source": [
    "#add a final prompt\n",
    "final_prompt = ChatPromptTemplate.from_messages(\n",
    "    [\n",
    "        (\"system\", \"You end all your jokes with the phrase, 'Bazinga'.\"),\n",
    "        few_shot_prompt,\n",
    "        (\"human\", \"{input}\"),\n",
    "    ]\n",
    ")"
   ]
  },
  {
   "cell_type": "code",
   "execution_count": 12,
   "metadata": {},
   "outputs": [
    {
     "data": {
      "text/plain": [
       "'Once there was a dad who loved gardening. He spent hours tending to his plants, making sure they were well-watered and healthy. One day, his son asked him, \"Dad, why do you talk to your plants so much?\" The dad replied, \"Well, son, plants love to hear jokes! It helps them grow big and strong.\" So every day, the dad would tell his plants the corniest jokes he could think of. One day, he told a particularly bad joke about a tomato, and to his surprise, the tomato plant actually seemed to perk up. The dad laughed and said, Why did the tomato turn red? Because it saw the salad dressing! Bazinga.'"
      ]
     },
     "execution_count": 12,
     "metadata": {},
     "output_type": "execute_result"
    }
   ],
   "source": [
    "from langchain_openai import ChatOpenAI\n",
    "\n",
    "chain = final_prompt | ChatOpenAI(temperature= 0.7)\n",
    "\n",
    "chain.invoke({\"input\": \"Tell me a dad joke. The joke should be in a story format.\"}).content"
   ]
  },
  {
   "cell_type": "code",
   "execution_count": null,
   "metadata": {},
   "outputs": [],
   "source": []
  }
 ],
 "metadata": {
  "kernelspec": {
   "display_name": "Python 3",
   "language": "python",
   "name": "python3"
  },
  "language_info": {
   "codemirror_mode": {
    "name": "ipython",
    "version": 3
   },
   "file_extension": ".py",
   "mimetype": "text/x-python",
   "name": "python",
   "nbconvert_exporter": "python",
   "pygments_lexer": "ipython3",
   "version": "3.10.10"
  }
 },
 "nbformat": 4,
 "nbformat_minor": 2
}
